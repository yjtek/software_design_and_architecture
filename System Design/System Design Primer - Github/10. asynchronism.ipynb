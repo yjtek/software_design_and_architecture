{
 "cells": [
  {
   "cell_type": "markdown",
   "metadata": {},
   "source": [
    "# Asynchronism"
   ]
  },
  {
   "cell_type": "markdown",
   "metadata": {},
   "source": [
    "- If you have a compute step that takes very long, async workflows reduce request times by performing it in a non-blocking way, so other tasks can be done while the long running task async is getting handled"
   ]
  },
  {
   "cell_type": "markdown",
   "metadata": {},
   "source": [
    "## Types of Asynchronous Task Management"
   ]
  },
  {
   "cell_type": "markdown",
   "metadata": {},
   "source": [
    "- Message queues\n",
    "    - What is it?\n",
    "    - Disadvantages\n",
    "\n",
    "- Task queues\n",
    "    - What is it?\n",
    "    - Disadvantages\n",
    "\n",
    "- Back pressure\n",
    "    - What is it?\n",
    "    - Disadvantages\n"
   ]
  }
 ],
 "metadata": {
  "language_info": {
   "name": "python"
  }
 },
 "nbformat": 4,
 "nbformat_minor": 2
}
