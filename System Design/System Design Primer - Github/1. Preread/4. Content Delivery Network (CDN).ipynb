{
 "cells": [
  {
   "cell_type": "markdown",
   "metadata": {},
   "source": [
    "# CDN"
   ]
  },
  {
   "cell_type": "markdown",
   "metadata": {},
   "source": [
    "- Physical scattering of proxy servers all over the world, which cache specific static files. \n",
    "    - Ensures faster page load times when the caller is physically far away from the main server\n",
    "    - Reduces the number of server hits; if CDN can return cached values then don't need to worry about server load "
   ]
  },
  {
   "cell_type": "markdown",
   "metadata": {},
   "source": [
    "## Types of CDNs"
   ]
  },
  {
   "cell_type": "markdown",
   "metadata": {},
   "source": [
    "- Push CDN\n",
    "    - CDN recieve new content whenever something changes on your server, often via manual trigger\n",
    "    - When caller requests content, it is served from the nearest server\n",
    "    - Usually used when site is small and updates infrequent. You only need to place content on CDN once, and don't need to worry about it until the next change\n",
    "\n",
    "- Pull CDN\n",
    "    - Pull content from server when the first user requests the content, and caches on proxy server\n",
    "    - If site is frequently updated, then pull CDNs may be better because you don't have to manually manage a push to edge servers every time"
   ]
  },
  {
   "cell_type": "markdown",
   "metadata": {},
   "source": [
    "## Downsides"
   ]
  },
  {
   "cell_type": "markdown",
   "metadata": {},
   "source": [
    "- CDN costs could be significant depending on traffic, although this should be weighed with additional costs you would incur not using a CDN.\n",
    "- Content might be stale if it is updated before the TTL expires it.\n",
    "- CDNs require changing URLs for static content to point to the CDN."
   ]
  },
  {
   "cell_type": "markdown",
   "metadata": {},
   "source": []
  }
 ],
 "metadata": {
  "language_info": {
   "name": "python"
  }
 },
 "nbformat": 4,
 "nbformat_minor": 2
}
