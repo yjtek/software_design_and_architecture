{
 "cells": [
  {
   "cell_type": "markdown",
   "metadata": {},
   "source": [
    "# Asynchronism"
   ]
  },
  {
   "cell_type": "markdown",
   "metadata": {},
   "source": [
    "- If you have a compute step that takes very long, async workflows reduce request times by performing it in a non-blocking way, so other tasks can be done while the long running task async is getting handled"
   ]
  },
  {
   "cell_type": "markdown",
   "metadata": {},
   "source": [
    "## Types of Asynchronous Task Management"
   ]
  },
  {
   "cell_type": "markdown",
   "metadata": {},
   "source": [
    "- Message queues\n",
    "    - What is it?\n",
    "        - A queue that holds messages. Messages can be anything, could be data, a job, a signal etc\n",
    "            1. An application publishes a job to the queue, then notifies the user of job status\n",
    "            2. A worker picks up the job from the queue, processes it, then signals the job is complete \n",
    "        - The idea is that, for long running jobs, it is better to let the the non-slow stuff finish, and decouple the slow stuff to another process asynchronously so you don't block the application\n",
    "        - Examples include, Redis, RabbitMQ, Amazon SQS\n",
    "- Task queues\n",
    "    - What is it?\n",
    "        - Tasks queues receive tasks and their related data, run them, then delivers their results. \n",
    "        - They can support scheduling and can be used to run computationally-intensive jobs in the background.\n",
    "            - For example: user wants to upload a file\n",
    "                - Enqueue task for virus check, compression, etc\n",
    "                - Distribute to workers\n",
    "        - Examples include Celery\n",
    "\n",
    "- Back pressure\n",
    "    - What is it?\n",
    "        - If queues start to get long, then you run into memory issues in the queue. This can lead to cache misses, disk reads etc. \n",
    "        - Back pressure simply means blocking requests when the queue is full, and letting clients retry the request at a later time\n",
    "\n",
    "\n"
   ]
  },
  {
   "cell_type": "markdown",
   "metadata": {},
   "source": [
    "## Disadvantages of Asynchronism"
   ]
  },
  {
   "cell_type": "markdown",
   "metadata": {},
   "source": [
    "- If your tasks are fairly lightweight, best to use synchronous operations. Else queues introduce additional points of failure and added complexity\n"
   ]
  }
 ],
 "metadata": {
  "language_info": {
   "name": "python"
  }
 },
 "nbformat": 4,
 "nbformat_minor": 2
}
