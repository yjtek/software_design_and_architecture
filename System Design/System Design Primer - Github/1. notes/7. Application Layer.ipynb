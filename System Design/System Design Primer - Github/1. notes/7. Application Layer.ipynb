{
 "cells": [
  {
   "cell_type": "markdown",
   "metadata": {},
   "source": [
    "# Application Layer"
   ]
  },
  {
   "cell_type": "markdown",
   "metadata": {},
   "source": [
    "- In modern development, it is often considered \"best practise\" to abstract small bits of your program as independent pieces of software. \n",
    "\n",
    "- There are multiple avenues to do this;\n",
    "    - For example, an e-commerce site may have a \"checkout\" service, a \"cart\" service, an \"offers\" service etc. This is known as **microservice architecture**\n",
    "    - Another way to do this is to abstract your web layer (the portion of your code handling requests, routing, sessions etc) away from your application layer (the part handling the actual business logic)\n",
    "\n",
    "- When this sort of separation happens, it becomes important to find a way to let services know about each other\n",
    "    - For example, imagine a web layer with 100 k8s pods, calling an application layer with another 100 k8s pods. \n",
    "        - How would everyone know which pods are healthy and which have gone down?\n",
    "        - Who keeps track of the IP addresses for every pod?\n",
    "\n",
    "    - This is where services like Consul/Etcd/Zookeeper come in, which maintain a health check and address book for every pod deployed\n",
    "\n",
    "    - This is known as **service discovery**\n"
   ]
  },
  {
   "cell_type": "markdown",
   "metadata": {},
   "source": []
  }
 ],
 "metadata": {
  "kernelspec": {
   "display_name": "data_science",
   "language": "python",
   "name": "python3"
  },
  "language_info": {
   "codemirror_mode": {
    "name": "ipython",
    "version": 3
   },
   "file_extension": ".py",
   "mimetype": "text/x-python",
   "name": "python",
   "nbconvert_exporter": "python",
   "pygments_lexer": "ipython3",
   "version": "3.11.8"
  }
 },
 "nbformat": 4,
 "nbformat_minor": 2
}
