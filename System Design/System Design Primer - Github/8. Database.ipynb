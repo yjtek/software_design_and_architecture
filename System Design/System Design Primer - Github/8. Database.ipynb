{
 "cells": [
  {
   "cell_type": "markdown",
   "metadata": {},
   "source": [
    "# Database"
   ]
  },
  {
   "cell_type": "markdown",
   "metadata": {},
   "source": [
    "## Relational Database Management System (RDBMS)"
   ]
  },
  {
   "cell_type": "markdown",
   "metadata": {},
   "source": [
    "- RDBMS is the most straightforward DB system (MySQL etc)\n",
    "- In every RDBMS, you want to have these **ACID** properties for a database transaction:\n",
    "    - Atomicity: Every transaction is all or nothing\n",
    "    - Consistency: Any transaction takes a database from one valid state to another valid state\n",
    "    - Isolation: Executing transactions concurrently leads to the same result as executing them serially\n",
    "    - Durability: Once a transaction is committed, it remains committed"
   ]
  },
  {
   "cell_type": "markdown",
   "metadata": {},
   "source": [
    "### Scaling a relational DB"
   ]
  },
  {
   "cell_type": "markdown",
   "metadata": {},
   "source": [
    "- Replication \n",
    "    - Master-slave replication\n",
    "        - How does it work?\n",
    "            - You have a few DB replicas, and designate 1 as master. \n",
    "            - The master can read and write, and slaves can only read\n",
    "            - If a master goes offline, a slave is promoted to the master\n",
    "            - Master replicates to slaves, and slaves can replicate to each other recursively\n",
    "        \n",
    "        - Disadvanges:\n",
    "            - You need extra logic to deal with the slave promotion when master goes offline\n",
    "\n",
    "    - Master-master replication\n",
    "        - Similar to master-slave, but all replicas can handle read and writes\n",
    "        \n",
    "        - Disadvantages;\n",
    "            - You'll need a load balancer or you'll need to define where to write in your code somewhere\n",
    "            - Master-master are are either loosely consistent (because you must allow for DBs to exist in different states when multiple writes are happening) or have increased write latency due to synchronization.\n",
    "            - Conflict resolution can add latency if you have more \"write\" nodes\n",
    "\n",
    "    - General issues with replication:\n",
    "        - If your master fails before the data can be replicated to other replicas, you will end up losing data\n",
    "        - For every write, you need to \"duplicate\" the transaction to all replicas. So write-heavy systems will be extremely bogged down by constant writing and may not be as responsive with the reads\n",
    "        - The more \"read\" slaves you have, the more replication has to take place, which can lag the entire DB system\n",
    "        - Some systems may support multi-threaded writing to the master, but read replicas generally only support single threaded writes.\n",
    "        - Replication adds hardware requirements and can be complex to manage\n",
    "\n",
    "- Federation\n",
    "    - What is it?\n",
    "        - This just means splitting your DB up by function (i.e. different schemas/tables) instead of a single DB monolith\n",
    "    \n",
    "    - Advantages\n",
    "        - Less read/writes into each DB, means less replication lag\n",
    "        - Smaller data means data fits in memory, which lets more queries hit the cache, reducing expensive disk retrieval\n",
    "        - If each DB can handle its own writes, then there is wider throughput, because you can write to multiple tables at once instead of doing writes serially\n",
    "\n",
    "    - Disadvantages\n",
    "        - Federation assumes all your tables/functions are roughly the same size. But if you have a few disproportionately large ones, then this not effective because a lot of the reads/writes into the massive DB will still be bottlenecked\n",
    "        - Depending on which DB you want to update, you need to change your application logic\n",
    "        - Joining tables is a lot more complex, because it requires a network / server link \n",
    "        - Adds complexity\n",
    "\n",
    "- Sharding\n",
    "    - What is it?\n",
    "        - Like federation, you split your DB. But unlike federation, that splits the DB by function, sharding lets you split it by some data subset (i.e. all users with names starting with A goes to DB 1, B goes to DB 2 etc)\n",
    "\n",
    "    - Advantages\n",
    "        - Like federation, this lets you have better throughput (assuming your reads/writes are distributed evenly across all DBs)\n",
    "        - If one shard goes down, the others are still up\n",
    "\n",
    "    - Disadvantages\n",
    "        - Your application logic needs to work around the DB shards, which may be a pain\n",
    "        - Data distribution can become uneven, whcih reduces the efficiency of sharding\n",
    "            - Rebalancing may be hard, and will affect legacy code\n",
    "        - Joins become complex\n",
    "        - Added hardware\n",
    "\n",
    " - Denormalization\n",
    "    - What is it?\n",
    "        - Usually, you want to \"normalise\" your tables as much as possible (i.e. every table to contain as little information as possible)\n",
    "        - Idea being, you spend as little on storage as possible\n",
    "        - But if you have joins that are constantly being done, the compute costs may outweigh the storage cost\n",
    "        - So sometimes, storing \"denormalised\" tables may be cheaper!\n",
    "        - Especially if tables are read heavy\n",
    "\n",
    "    - Disadvantages\n",
    "        - Data is duplicated, so space is wasted\n",
    "        - With denormalised data, you need to make use of DB constraints to ensure that redundant copies of information stay in sync with other tables (e.g. if customer account is deleted from users table, then transactions must also be deleted)\n",
    "        - A denormalized database under heavy write load might perform worse than its normalized counterpart.\n",
    "\n",
    "- SQL tuning\n",
    "    - What is it?\n",
    "        - Basically writing sql properly for faster querying\n",
    "        - Approaches\n",
    "            - Tighten up schema\n",
    "                - `CHAR` instead of `VARCHAR` for fixed length strings\n",
    "                - `TEXT` for large text blocks\n",
    "                - `INT`/`BIGINT` and `FLOAT`/`DOUBE` etc\n",
    "            - Use better indices\n",
    "            - Avoid expensive joins\n",
    "            - Partition queries\n",
    "            - Tune query cache"
   ]
  },
  {
   "cell_type": "markdown",
   "metadata": {},
   "source": [
    "## NoSQL"
   ]
  },
  {
   "cell_type": "markdown",
   "metadata": {},
   "source": [
    "- Data items represented in a key-value store / document store / wide column store / graph database. \n",
    "- Data is denormalized (because it is a key value store lol), and usually any joins are handled in the application code. \n",
    "- NoSQL stores lack true ACID transactions and favor eventual consistency (to ensure partition tolerance and availability)\n",
    "\n",
    "- NoSQL DBs have the **BASE** concept instead of **ACID**\n",
    "    - Basically Available: Guarantees availability\n",
    "    - Soft State: System state may change over time even without input\n",
    "    - Eventual Consistency: System will eventually become consistent over a period of time so long as it doesn't receive input"
   ]
  },
  {
   "cell_type": "markdown",
   "metadata": {},
   "source": [
    "### Types of NoSQL DBs"
   ]
  },
  {
   "cell_type": "markdown",
   "metadata": {},
   "source": [
    "- Key-Value Store\n",
    "    - Abstraction is a hash table\n",
    "    - Guarantees O(1) lookup, so use for read heavy applications.\n",
    "    - Usually used for in-memory caches (i.e. Redis)\n",
    "    - Usually forms the basis of more complex systems (like document stores or graph DBs)\n",
    "\n",
    "- Document Store\n",
    "    - Abstraction is a key-value store\n",
    "    - Document stores all information for a given object\n",
    "    - Document stores provide APIs or a query language to query based on the internal structure of the document itself\n",
    "    - Each document can have completely different fields from each other\n",
    "    - MongoDB, CouchDB, DDB\n",
    "    - Used for working with occasionally changing data.\n",
    "\n",
    "- Wide Column Store\n",
    "    - Abstraction: nested map ColumnFamily<RowKey, Columns<ColKey, Value, Timestamp>>\n",
    "    - Structure\n",
    "        - basic unit of data is a column (name-value pair)\n",
    "        - Each column can be grouped into column families\n",
    "        - Each column family can be grouped into super column families\n",
    "    - You can access each column independently with a row key, and columns with the same row key form a row\n",
    "    - Usually used for cases where reads and writes are super high frequency\n",
    "        - For example, high frequency sensor data\n",
    "        - Each sensor is a row, each column family can be temperature, humidity etc\n",
    "        - Each column can be a microsecond\n",
    "\n",
    "- Graph database\n",
    "    - Abstraction: graph\n",
    "    - Each node is a record/entity, each edge a relationship\n",
    "    - Usually can only be accessed via REST APIs\n",
    "\n",
    "\n",
    "\n",
    "\n"
   ]
  },
  {
   "cell_type": "markdown",
   "metadata": {},
   "source": [
    "## SQL vs NoSQL"
   ]
  },
  {
   "cell_type": "markdown",
   "metadata": {},
   "source": [
    "- Use SQL if:\n",
    "    - Structured data\n",
    "    - Strict schema\n",
    "    - Relational data\n",
    "    - Need for complex joins\n",
    "    - Transactions\n",
    "    - Clear patterns for scaling\n",
    "    - More established: developers, community, code, tools, etc\n",
    "    - Lookups by index are very fast\n",
    "\n",
    "- Use NoSQL if:\n",
    "    - Rapid ingest of clickstream and log data\n",
    "    - Leaderboard or scoring data\n",
    "    - Temporary data, such as a shopping cart\n",
    "    - Frequently accessed ('hot') tables\n",
    "    - Metadata/lookup tables"
   ]
  },
  {
   "cell_type": "markdown",
   "metadata": {},
   "source": []
  }
 ],
 "metadata": {
  "kernelspec": {
   "display_name": "data_science",
   "language": "python",
   "name": "python3"
  },
  "language_info": {
   "codemirror_mode": {
    "name": "ipython",
    "version": 3
   },
   "file_extension": ".py",
   "mimetype": "text/x-python",
   "name": "python",
   "nbconvert_exporter": "python",
   "pygments_lexer": "ipython3",
   "version": "3.11.8"
  }
 },
 "nbformat": 4,
 "nbformat_minor": 2
}
