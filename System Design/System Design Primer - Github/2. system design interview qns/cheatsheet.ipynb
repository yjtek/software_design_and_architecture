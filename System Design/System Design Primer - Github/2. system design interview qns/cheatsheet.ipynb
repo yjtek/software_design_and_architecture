{
 "cells": [
  {
   "cell_type": "markdown",
   "metadata": {},
   "source": [
    "## 1. Outline use cases and constraints\n",
    "\n",
    "Gather requirements and scope the problem. Ask questions to clarify use cases and constraints. Discuss assumptions"
   ]
  },
  {
   "cell_type": "markdown",
   "metadata": {},
   "source": [
    "### Questions"
   ]
  },
  {
   "cell_type": "markdown",
   "metadata": {},
   "source": [
    "- High level APIs needed\n",
    "    - Who is going to use it?\n",
    "    - How are they going to use it?\n",
    "    - What does the system do?\n",
    "    - What are the inputs and outputs of the system?\n",
    "\n",
    "- Deciding on load of System\n",
    "    - How many users are there?\n",
    "    - How much data do we expect to handle?\n",
    "    - Data size per read/write transaction?\n",
    "        - e.g. Tweets are 140chars, so 140bytes\n",
    "        - For database, usually assume something like 1KB per read/write\n",
    "    - How many requests per second do we expect?\n",
    "    - What is the expected read to write ratio?\n",
    "\n",
    "- Deciding on other components (e.g. DNS, CDN)\n",
    "    - Distribution across time, geography, entities?"
   ]
  },
  {
   "cell_type": "markdown",
   "metadata": {},
   "source": [
    "### Sizing Cheatsheet"
   ]
  },
  {
   "cell_type": "markdown",
   "metadata": {},
   "source": [
    "- Seconds in stretches of time\n",
    "    - 1 day has 86400 seconds\n",
    "    - 1 month has 2.5m seconds\n",
    "\n",
    "- Sizing base 62 hash length `[a-zA-Z0-9]`. You shouldn't need hash of more than length 7 for most use cases to generate an ID\n",
    "    - $ 62^2 \\approx 3.8k$\n",
    "    - $ 62^3 \\approx 240k$\n",
    "    - $ 62^4 \\approx 15M$\n",
    "    - $ 62^5 \\approx 1B$\n",
    "    - $ 62^6 \\approx 57B$\n",
    "    - $ 62^7 \\approx 3.5T$\n",
    "    - $ 62^8 \\approx 218T$\n",
    "    - $ 62^9 \\approx 13Q$\n",
    "\n",
    "- Important powers of 2\n",
    "    - $2^0 = 1$\n",
    "    - $2^7 = 128 \\approx 100$\n",
    "    - $2^{10} = 1024 \\approx 1000$\n",
    "    - $2^{13} = 8196 \\approx 10,000$\n",
    "    - $2^{17} = 131072 \\approx 100,000$\n",
    "    - $2^{20} = 1048567 \\approx 1,000,000$\n",
    "    - $2^{30} = 1073741824 \\approx 1,000,000,000$\n",
    "    - $2^{40} = 1099511627776 \\approx 1,000,000,000,000$\n",
    "\n",
    "- Sizing\n",
    "    - 1 TB\n",
    "        - 1 billion * 1KB (e.g. billion database writes) \n",
    "        - 1 million * 1MB (e.g. file upload)\n",
    "        - 1000 * 1GB (e.g. big file upload)\n",
    "\n",
    "- QPS\n",
    "    - 1QPS is ~2.5m queries per month\n",
    "    - 10QPS is ~25m queries per month\n",
    "    - 40QPS is ~100m queries per month\n",
    "    - 400QPS is ~1billion queries per month"
   ]
  },
  {
   "cell_type": "markdown",
   "metadata": {},
   "source": [
    "## 2. Create a high level design"
   ]
  },
  {
   "cell_type": "markdown",
   "metadata": {},
   "source": [
    "### Client"
   ]
  },
  {
   "cell_type": "markdown",
   "metadata": {},
   "source": [
    "- All requests start from a client"
   ]
  },
  {
   "cell_type": "markdown",
   "metadata": {},
   "source": [
    "### DNS"
   ]
  },
  {
   "cell_type": "markdown",
   "metadata": {},
   "source": [
    "- Usually, you need a DNS (e.g. AWS Route53) if you have "
   ]
  },
  {
   "cell_type": "markdown",
   "metadata": {},
   "source": [
    "### Database\n",
    "\n",
    "Outline a high level design with all important components"
   ]
  },
  {
   "cell_type": "markdown",
   "metadata": {},
   "source": [
    "- SQL or NoSQL?\n",
    "    - Do you have a fixed schema?\n",
    "        - If you require a fixed schema ahead of time, use SQL \n",
    "    - Do you have lots of joins?\n",
    "        - If you have lots of joins, use SQL\n",
    "    - How will your DB scale? What needs to scale? Read or write?\n",
    "        - Generally it is accepted that SQL must scale vertically, and NoSQL can scale horizontally and vertically.\n",
    "        - Why is it harder for SQL to scale horizontally?\n",
    "            - Enabling of joins in SQL makes it hard to distribute data over multiple shards (because it is hard to direct the access appropriately)\n",
    "            - Requirement of ACID transactions for SQL makes it hard to distribute load over multiple machines"
   ]
  },
  {
   "cell_type": "markdown",
   "metadata": {},
   "source": []
  },
  {
   "cell_type": "markdown",
   "metadata": {},
   "source": [
    "## 3. Design core components"
   ]
  },
  {
   "cell_type": "markdown",
   "metadata": {},
   "source": [
    "- Dive into details for each core component."
   ]
  },
  {
   "cell_type": "markdown",
   "metadata": {},
   "source": [
    "## 4. Scale the design"
   ]
  },
  {
   "cell_type": "markdown",
   "metadata": {},
   "source": [
    "- Identify and address bottlenecks, given the constraints."
   ]
  },
  {
   "cell_type": "markdown",
   "metadata": {},
   "source": []
  }
 ],
 "metadata": {
  "kernelspec": {
   "display_name": "data_science",
   "language": "python",
   "name": "python3"
  },
  "language_info": {
   "codemirror_mode": {
    "name": "ipython",
    "version": 3
   },
   "file_extension": ".py",
   "mimetype": "text/x-python",
   "name": "python",
   "nbconvert_exporter": "python",
   "pygments_lexer": "ipython3",
   "version": "3.11.8"
  }
 },
 "nbformat": 4,
 "nbformat_minor": 2
}
