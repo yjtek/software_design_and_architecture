{
 "cells": [
  {
   "cell_type": "markdown",
   "id": "f3e00c68",
   "metadata": {},
   "source": [
    "# Principles for Testable Code"
   ]
  },
  {
   "cell_type": "markdown",
   "id": "04251498",
   "metadata": {},
   "source": [
    "- A big part of code design is writing code that is **testable**\n",
    "\n",
    "- We'll summarise a few factors for testable vs non testable code, just to build up some code quality instincts"
   ]
  },
  {
   "cell_type": "markdown",
   "id": "c4632797",
   "metadata": {},
   "source": [
    "## 1. Hidden Dependencies\n"
   ]
  },
  {
   "cell_type": "markdown",
   "id": "5e514f68",
   "metadata": {},
   "source": [
    "- Code should be written in a way that all dependencies are explicitly passed in, and accessible at runtime\n",
    "\n",
    "- This gives you the flexibility of testing different inputs!"
   ]
  },
  {
   "cell_type": "code",
   "execution_count": null,
   "id": "1ca6651e",
   "metadata": {},
   "outputs": [],
   "source": [
    "### Bad code\n",
    "class ABC:\n",
    "    def submit(self, something):\n",
    "        db = Database() ### HARDCODED!!! You are not able to test this without accessing the internals of the `submit` method\n",
    "        db.save(something)\n",
    "\n",
    "### Better code\n",
    "class ABC:\n",
    "    def __init__(self, db):\n",
    "        self.db = db\n",
    "\n",
    "    def submit(self, something):\n",
    "        self.db.save(something)"
   ]
  },
  {
   "cell_type": "markdown",
   "id": "723b7cb8",
   "metadata": {},
   "source": [
    "## 2. Side effects mixed with logic"
   ]
  },
  {
   "cell_type": "markdown",
   "id": "3488d78d",
   "metadata": {},
   "source": [
    "- When you write code, don't mix in effects with logical processing, it can make things super hard to test"
   ]
  },
  {
   "cell_type": "code",
   "execution_count": null,
   "id": "7f901ceb",
   "metadata": {},
   "outputs": [],
   "source": [
    "### Bad code\n",
    "def process_and_save(data):\n",
    "    result = data * 2 + 123\n",
    "    with open('something.txt', 'w') as f:\n",
    "        f.write(str(result))\n",
    "\n",
    "### Better code\n",
    "def process(data):\n",
    "    return data * 2 + 123\n",
    "\n",
    "def save(content, path):\n",
    "    with open(path, 'w') as f:\n",
    "        f.write(str(content))"
   ]
  },
  {
   "cell_type": "markdown",
   "id": "c0a3da82",
   "metadata": {},
   "source": [
    "## 3. Relying on globals/implicit values"
   ]
  },
  {
   "cell_type": "markdown",
   "id": "f1d47058",
   "metadata": {},
   "source": [
    "- As far as possible, you NEVER want your classes/functions to reference global values/states, because this makes it riduclously coupled, and if you ever need to change global states in future, you can get failures in unrelated parts of your codebase"
   ]
  },
  {
   "cell_type": "code",
   "execution_count": null,
   "id": "753dc0a2",
   "metadata": {},
   "outputs": [],
   "source": [
    "GLOBAL_VAL = 123\n",
    "\n",
    "### Bad code\n",
    "def process(data):\n",
    "    return data * GLOBAL_VAL\n",
    "\n",
    "### Better code\n",
    "def process(data, val):\n",
    "    return data * val"
   ]
  },
  {
   "cell_type": "markdown",
   "id": "744e49b0",
   "metadata": {},
   "source": [
    "## 4. Non-Deterministic Code"
   ]
  },
  {
   "cell_type": "markdown",
   "id": "1f74fffa",
   "metadata": {},
   "source": [
    "- As far as possible, functions should always return deterministic values\n",
    "\n",
    "- In the example below, we don't want to run `time.time()` each time; instead, use a `self.clock` input where we can supply a \"mock clock\" that gives the same result during testing"
   ]
  },
  {
   "cell_type": "code",
   "execution_count": 2,
   "id": "c1f42764",
   "metadata": {},
   "outputs": [],
   "source": [
    "import time\n",
    "def time():\n",
    "    return f\"T-{int(time.time())}\""
   ]
  },
  {
   "cell_type": "code",
   "execution_count": 3,
   "id": "bca65b96",
   "metadata": {},
   "outputs": [],
   "source": [
    "class Timer:\n",
    "    def __init__(self, clock):\n",
    "        self.clock = clock\n",
    "\n",
    "    def generate(self):\n",
    "        return f\"T-{int(self.clock.now())}\""
   ]
  },
  {
   "cell_type": "markdown",
   "id": "ad30ce01",
   "metadata": {},
   "source": [
    "## 5. Tight Coupling"
   ]
  },
  {
   "cell_type": "markdown",
   "id": "75d320d2",
   "metadata": {},
   "source": [
    "- Don't mix unnecessary things together. This is a general principle, we should think about separating operations wherever possible"
   ]
  },
  {
   "cell_type": "code",
   "execution_count": null,
   "id": "87ac70c9",
   "metadata": {},
   "outputs": [],
   "source": [
    "### Bad code, mixing logic with DB write\n",
    "def process_order(order_id):\n",
    "    order = db.load(order_id)\n",
    "    if order.total > 100:\n",
    "        db.save_discount(order, 0.2)\n",
    "\n",
    "### Good code\n",
    "def apply_discount(order):\n",
    "    if order.total > 100:\n",
    "        return 0.2\n",
    "    return 0.0\n",
    "\n",
    "order = db.load(order_id)\n",
    "discount = apply_discount(order)\n",
    "db.save_discount(order, discount)"
   ]
  },
  {
   "cell_type": "markdown",
   "id": "f1a784be",
   "metadata": {},
   "source": [
    "## 6. Inversion of Control"
   ]
  },
  {
   "cell_type": "markdown",
   "id": "8fda7917",
   "metadata": {},
   "source": [
    "- You have an object that does something. \n",
    "- But the \"doing something\" code is not contained in the object itself. Instead, it calls something else\n",
    "- The act of \"calling something else\" is not testable because:\n",
    "    1. It is internal to the object; I cannot tell the object what operations to perform when testing\n",
    "    2. I have zero clue what the call is doing in the context of the object's call"
   ]
  },
  {
   "cell_type": "code",
   "execution_count": 5,
   "id": "24e34231",
   "metadata": {},
   "outputs": [],
   "source": [
    "### Bad code\n",
    "class Button:\n",
    "    def on_click(self):\n",
    "        log_event(\"clicked\")\n",
    "        do_work() ##do_work is defined somewhere else. I cannot change out this \"on_click\" operation in my test\n",
    "\n",
    "### Better code\n",
    "class Button:\n",
    "    def __init__(self, on_click_handler):\n",
    "        self.on_click_handler = on_click_handler\n",
    "\n",
    "    def on_click(self):\n",
    "        self.on_click_handler() ##on_click_handler can be mocked, and/or replaced with a spy function, during testing"
   ]
  },
  {
   "cell_type": "code",
   "execution_count": null,
   "id": "d6000abd",
   "metadata": {},
   "outputs": [],
   "source": []
  }
 ],
 "metadata": {
  "kernelspec": {
   "display_name": "software_design_and_architecture",
   "language": "python",
   "name": "python3"
  },
  "language_info": {
   "codemirror_mode": {
    "name": "ipython",
    "version": 3
   },
   "file_extension": ".py",
   "mimetype": "text/x-python",
   "name": "python",
   "nbconvert_exporter": "python",
   "pygments_lexer": "ipython3",
   "version": "3.12.11"
  }
 },
 "nbformat": 4,
 "nbformat_minor": 5
}
